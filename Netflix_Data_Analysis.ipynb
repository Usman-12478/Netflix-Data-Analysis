{
  "nbformat": 4,
  "nbformat_minor": 0,
  "metadata": {
    "colab": {
      "private_outputs": true,
      "provenance": [],
      "include_colab_link": true
    },
    "kernelspec": {
      "name": "python3",
      "display_name": "Python 3"
    },
    "language_info": {
      "name": "python"
    }
  },
  "cells": [
    {
      "cell_type": "markdown",
      "metadata": {
        "id": "view-in-github",
        "colab_type": "text"
      },
      "source": [
        "<a href=\"https://colab.research.google.com/github/Usman-12478/Netflix-Data-Analysis/blob/main/Netflix_Data_Analysis.ipynb\" target=\"_parent\"><img src=\"https://colab.research.google.com/assets/colab-badge.svg\" alt=\"Open In Colab\"/></a>"
      ]
    },
    {
      "cell_type": "code",
      "execution_count": null,
      "metadata": {
        "id": "YS9S4bshG43Y"
      },
      "outputs": [],
      "source": [
        "import pandas as pd\n",
        "import numpy as np\n",
        "import matplotlib.pyplot as plt\n",
        "import seaborn as sns"
      ]
    },
    {
      "cell_type": "code",
      "source": [
        "# Load the dataset\n",
        "df = pd.read_csv('netflix_titles_2021.csv')"
      ],
      "metadata": {
        "id": "l8CaOiOFJf-E"
      },
      "execution_count": null,
      "outputs": []
    },
    {
      "cell_type": "code",
      "source": [
        "df.head()"
      ],
      "metadata": {
        "id": "bTigWPJFVePw"
      },
      "execution_count": null,
      "outputs": []
    },
    {
      "cell_type": "markdown",
      "source": [
        "**What types of shows or movies are uploaded on Netflix?**\n"
      ],
      "metadata": {
        "id": "YqRl1NcaJx7J"
      }
    },
    {
      "cell_type": "code",
      "source": [
        "df.info()"
      ],
      "metadata": {
        "id": "ba6cHM5fWbui"
      },
      "execution_count": null,
      "outputs": []
    },
    {
      "cell_type": "code",
      "source": [
        "df['type'].value_counts()"
      ],
      "metadata": {
        "id": "weTXWir8Ws4R"
      },
      "execution_count": null,
      "outputs": []
    },
    {
      "cell_type": "code",
      "source": [
        "df['rating'].value_counts()"
      ],
      "metadata": {
        "id": "q9_V75paXFJi"
      },
      "execution_count": null,
      "outputs": []
    },
    {
      "cell_type": "code",
      "source": [
        "df.shape"
      ],
      "metadata": {
        "id": "OTuUidpBI1im"
      },
      "execution_count": null,
      "outputs": []
    },
    {
      "cell_type": "code",
      "source": [
        "df.size"
      ],
      "metadata": {
        "id": "E-SsT0HlXcEf"
      },
      "execution_count": null,
      "outputs": []
    },
    {
      "cell_type": "code",
      "source": [
        "df.columns.tolist()"
      ],
      "metadata": {
        "id": "0kcO0dYeXtq2"
      },
      "execution_count": null,
      "outputs": []
    },
    {
      "cell_type": "code",
      "source": [
        "df.dtypes"
      ],
      "metadata": {
        "id": "R10l0D1VXxco"
      },
      "execution_count": null,
      "outputs": []
    },
    {
      "cell_type": "code",
      "source": [
        "df.describe()"
      ],
      "metadata": {
        "id": "c9KXEBhvYAlu"
      },
      "execution_count": null,
      "outputs": []
    },
    {
      "cell_type": "code",
      "source": [
        "df.describe(include='all')"
      ],
      "metadata": {
        "id": "iS2XCosAYWRb"
      },
      "execution_count": null,
      "outputs": []
    },
    {
      "cell_type": "code",
      "source": [
        "df.nunique()"
      ],
      "metadata": {
        "id": "pi-hj4FwYbO4"
      },
      "execution_count": null,
      "outputs": []
    },
    {
      "cell_type": "code",
      "source": [
        "df.isnull().sum()"
      ],
      "metadata": {
        "id": "lPLdqgEuYte9"
      },
      "execution_count": null,
      "outputs": []
    },
    {
      "cell_type": "markdown",
      "source": [
        "**What is the correlation between features?**"
      ],
      "metadata": {
        "id": "ru-qg2otJ0mM"
      }
    },
    {
      "cell_type": "code",
      "source": [
        "numerical_df = df.select_dtypes(include=['float64', 'int64'])\n",
        "correlation_matrix = numerical_df.corr()\n",
        "sns.heatmap(correlation_matrix, annot=True, color = 'red')\n",
        "plt.xlabel('Features')\n",
        "plt.ylabel('Features')\n",
        "plt.title('Correlation Between Features')\n",
        "plt.show()\n"
      ],
      "metadata": {
        "id": "FFeFlFybI7na"
      },
      "execution_count": null,
      "outputs": []
    },
    {
      "cell_type": "markdown",
      "source": [
        "**Which shows are most watched on Netflix?**"
      ],
      "metadata": {
        "id": "LIvPnDhYK7xz"
      }
    },
    {
      "cell_type": "code",
      "source": [
        "\n",
        "df = df.dropna(subset=['title'])\n",
        "\n",
        "df['title'] = df['title'].astype(str)\n",
        "\n",
        "most_watched = df['title'].value_counts().head(10)\n",
        "print(most_watched)\n"
      ],
      "metadata": {
        "id": "UooNXYIOLL_0"
      },
      "execution_count": null,
      "outputs": []
    },
    {
      "cell_type": "markdown",
      "source": [
        "**- What is the distribution of ratings?**\n"
      ],
      "metadata": {
        "id": "P87_83SLv2Ov"
      }
    },
    {
      "cell_type": "code",
      "source": [
        "df['rating'].value_counts().plot(kind='bar', title='Distribution of Ratings')\n",
        "plt.xlabel('Rating')\n",
        "plt.ylabel('Count')\n",
        "plt.show()\n"
      ],
      "metadata": {
        "id": "tmE_Ife6Le0u"
      },
      "execution_count": null,
      "outputs": []
    },
    {
      "cell_type": "markdown",
      "source": [
        "- **Which has the highest rating: TV shows or movies?**\n"
      ],
      "metadata": {
        "id": "CaEpe30_v81k"
      }
    },
    {
      "cell_type": "code",
      "source": [
        "df['type'].value_counts().plot(kind = 'bar')\n",
        "plt.show()"
      ],
      "metadata": {
        "id": "FS4429KuLqiT"
      },
      "execution_count": null,
      "outputs": []
    },
    {
      "cell_type": "markdown",
      "source": [
        "- **What is the best month for releasing content?**\n"
      ],
      "metadata": {
        "id": "bPu5M_9YwDTW"
      }
    },
    {
      "cell_type": "code",
      "source": [
        "date_format = '%B %d, %Y'\n",
        "\n",
        "df['date_added'] = pd.to_datetime(df['date_added'], format=date_format, errors='coerce')\n",
        "\n",
        "missing_dates = df['date_added'].isnull().sum()\n",
        "print(f'Number of missing dates after conversion: {missing_dates}')\n",
        "\n",
        "if missing_dates > 0:\n",
        "    print(\"\\nRows with missing dates:\")\n",
        "    print(df[df['date_added'].isnull()])\n",
        "\n",
        "df['month_added'] = df['date_added'].dt.month\n",
        "\n",
        "best_month = df['month_added'].value_counts().idxmax()\n",
        "print(f'The best month for releasing content is: {best_month}')\n"
      ],
      "metadata": {
        "id": "GTaYFDNTMjgD"
      },
      "execution_count": null,
      "outputs": []
    },
    {
      "cell_type": "markdown",
      "source": [
        "- **Which genres are most watched on Netflix?**\n"
      ],
      "metadata": {
        "id": "ewZk3gDNwJQM"
      }
    },
    {
      "cell_type": "code",
      "source": [
        "genres = df['listed_in'].str.split(', ').explode().value_counts().head(10)\n",
        "genres.plot(kind='bar', title='Most Watched Genres on Netflix')\n",
        "plt.xlabel('Genre')\n",
        "plt.ylabel('Count')\n",
        "plt.show()\n",
        "\n"
      ],
      "metadata": {
        "id": "MaMp1pGsPh9e"
      },
      "execution_count": null,
      "outputs": []
    },
    {
      "cell_type": "markdown",
      "source": [
        "- **How many movies have been released over the years?**\n"
      ],
      "metadata": {
        "id": "-EQuFDXewPEv"
      }
    },
    {
      "cell_type": "code",
      "source": [
        "df['release_year'].value_counts().sort_index().plot(kind='line', title='Movies Released Over the Years')\n",
        "plt.xlabel('Year')\n",
        "plt.ylabel('Count')\n",
        "plt.show()\n"
      ],
      "metadata": {
        "id": "i2moHL5RSMRV"
      },
      "execution_count": null,
      "outputs": []
    },
    {
      "cell_type": "markdown",
      "source": [
        "- **How many movies were made per year?**\n"
      ],
      "metadata": {
        "id": "ndU2VgM-wTPw"
      }
    },
    {
      "cell_type": "code",
      "source": [
        "movies_per_year = df[df['type'] == 'Movie']['release_year'].value_counts().sort_index()\n",
        "movies_per_year.plot(kind='bar', title='Movies Made Per Year')\n",
        "plt.xlabel('Year')\n",
        "plt.ylabel('Count')\n",
        "plt.show()\n"
      ],
      "metadata": {
        "id": "Sr8Qf6TZSiu_"
      },
      "execution_count": null,
      "outputs": []
    },
    {
      "cell_type": "markdown",
      "source": [
        "- **What is the show ID and director for 'House of Cards'?**\n"
      ],
      "metadata": {
        "id": "fwcHNMXowXbj"
      }
    },
    {
      "cell_type": "code",
      "source": [
        "house_of_cards = df[df['title'] == 'House of Cards']\n",
        "show_id = house_of_cards['show_id'].values[0]\n",
        "director = house_of_cards['director'].values[0]\n",
        "print(f'Show ID: {show_id}, Director: {director}')\n"
      ],
      "metadata": {
        "id": "GrRSF3t7TJTe"
      },
      "execution_count": null,
      "outputs": []
    },
    {
      "cell_type": "markdown",
      "source": [
        "- **List all movies released in 2000.**\n"
      ],
      "metadata": {
        "id": "6r-YJ-yMwaw5"
      }
    },
    {
      "cell_type": "code",
      "source": [
        "movies_2000 = df[(df['type'] == 'Movie') & (df['release_year'] == 2000)]\n",
        "print(movies_2000)\n"
      ],
      "metadata": {
        "id": "erEN-AqmUbcN"
      },
      "execution_count": null,
      "outputs": []
    },
    {
      "cell_type": "markdown",
      "source": [
        "- **Show only the titles of TV shows released in India.**\n"
      ],
      "metadata": {
        "id": "KPZdPs--wfbE"
      }
    },
    {
      "cell_type": "code",
      "source": [
        "tv_shows_india = df[(df['type'] == 'TV Show') & (df['country'] == 'India')]\n",
        "print(tv_shows_india['title'])\n"
      ],
      "metadata": {
        "id": "7fYlL4ZzUd6L"
      },
      "execution_count": null,
      "outputs": []
    },
    {
      "cell_type": "markdown",
      "source": [
        "**Show only the titles of TV shows released in United States**"
      ],
      "metadata": {
        "id": "j7_nJvWV7nGi"
      }
    },
    {
      "cell_type": "code",
      "source": [
        "tv_shows_US = df[(df['type'] == 'TV Show') & (df['country'] == 'United States')]\n",
        "print(tv_shows_US['title'])\n"
      ],
      "metadata": {
        "id": "n49JBRzp7My3"
      },
      "execution_count": null,
      "outputs": []
    },
    {
      "cell_type": "markdown",
      "source": [
        "**- Identify the top 10 directors who have contributed the most TV shows and movies to Netflix.**\n"
      ],
      "metadata": {
        "id": "GKmvmkiFwjpF"
      }
    },
    {
      "cell_type": "code",
      "source": [
        "top_directors = df['director'].value_counts().head(10)\n",
        "print(top_directors)\n"
      ],
      "metadata": {
        "id": "UkdpDOAeUiyx"
      },
      "execution_count": null,
      "outputs": []
    },
    {
      "cell_type": "markdown",
      "source": [
        "-**How many movies/TV shows has Tom Cruise been cast in?**\n"
      ],
      "metadata": {
        "id": "dQxeE-SzwpMy"
      }
    },
    {
      "cell_type": "code",
      "source": [
        "tom_cruise = df[df['cast'].str.contains('Tom Cruise', na=False)]\n",
        "print(tom_cruise)\n"
      ],
      "metadata": {
        "id": "ttOkgWMnVRFt"
      },
      "execution_count": null,
      "outputs": []
    },
    {
      "cell_type": "markdown",
      "source": [
        "- **How many movies have a \"TV-14\" rating in Canada?**\n"
      ],
      "metadata": {
        "id": "I2tGF6DfwvCs"
      }
    },
    {
      "cell_type": "code",
      "source": [
        "tv14_canada = df[(df['rating'] == 'TV-14') & (df['country'] == 'Canada') & (df['type'] == 'Movie')]\n",
        "print(tv14_canada)"
      ],
      "metadata": {
        "id": "Jc5MgrhyVWJv"
      },
      "execution_count": null,
      "outputs": []
    },
    {
      "cell_type": "code",
      "source": [],
      "metadata": {
        "id": "hiXiFcgCVbgg"
      },
      "execution_count": null,
      "outputs": []
    }
  ]
}